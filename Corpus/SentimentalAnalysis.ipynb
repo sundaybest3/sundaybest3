{
  "nbformat": 4,
  "nbformat_minor": 0,
  "metadata": {
    "colab": {
      "private_outputs": true,
      "provenance": [],
      "include_colab_link": true
    },
    "kernelspec": {
      "name": "python3",
      "display_name": "Python 3"
    },
    "language_info": {
      "name": "python"
    }
  },
  "cells": [
    {
      "cell_type": "markdown",
      "metadata": {
        "id": "view-in-github",
        "colab_type": "text"
      },
      "source": [
        "<a href=\"https://colab.research.google.com/github/sundaybest3/sundaybest3/blob/main/Corpus/SentimentalAnalysis.ipynb\" target=\"_parent\"><img src=\"https://colab.research.google.com/assets/colab-badge.svg\" alt=\"Open In Colab\"/></a>"
      ]
    },
    {
      "cell_type": "markdown",
      "source": [
        "#🌿 NLP and Digital Humanities\n",
        "## Part 1. Natural Language Processing\n",
        "## Part 2. Topic-Modeling - Presidential Address\n",
        "## **Part 3. Sentiment Analysis - English Literature (e.g., Harry Potter)**\n",
        "## Part 4. Clustering Analysis - movies"
      ],
      "metadata": {
        "id": "jc0IN0eAkiUk"
      }
    },
    {
      "cell_type": "markdown",
      "source": [
        "---\n",
        "# Part III. Sentiment Analysis (w/ Harry Potter)\n",
        "---"
      ],
      "metadata": {
        "id": "usEAgkWkRPBY"
      }
    },
    {
      "cell_type": "code",
      "source": [
        "#@markdown + Intro to Sentimental Analysis\n",
        "\n",
        "from IPython.display import display\n",
        "import ipywidgets as widgets\n",
        "import requests\n",
        "\n",
        "def on_button_click(button):\n",
        "    sn = int(button.description) - 1\n",
        "    image.value = requests.get(urls[sn]).content\n",
        "\n",
        "urls = [\"https://raw.githubusercontent.com/junkyuhufs/workshop/main/slide.13.png\",\n",
        "        \"https://raw.githubusercontent.com/junkyuhufs/workshop/main/slide.12.png\",\n",
        "        \"https://raw.githubusercontent.com/junkyuhufs/workshop/main/slide.14.png\"\n",
        "]\n",
        "\n",
        "button_layout = widgets.Layout(width='50px', height='30px')\n",
        "\n",
        "buttons = [widgets.Button(description=str(i), layout=button_layout) for i in range(1, 4)]\n",
        "for button in buttons:\n",
        "    button.on_click(on_button_click)\n",
        "\n",
        "image = widgets.Image(value=requests.get(urls[0]).content, width=\"800\", height=\"600\")\n",
        "\n",
        "display(widgets.HBox([image, widgets.VBox(buttons)]))"
      ],
      "metadata": {
        "cellView": "form",
        "id": "RNuA9SEtRTft"
      },
      "execution_count": null,
      "outputs": []
    },
    {
      "cell_type": "markdown",
      "source": [
        "## Preparing the data to analyze"
      ],
      "metadata": {
        "id": "OxA50awOT-Nk"
      }
    },
    {
      "cell_type": "markdown",
      "source": [
        "+ [Source link: Harry Potter sharing Github site](https://github.com/ErikaJacobs/Harry-Potter-Text-Mining.git)\n",
        "\n",
        "+ [Text example](https://raw.githubusercontent.com/ErikaJacobs/Harry-Potter-Text-Mining/master/Book%20Text/HPBook1.txt)"
      ],
      "metadata": {
        "id": "6zTPhIAnRgx5"
      }
    },
    {
      "cell_type": "code",
      "source": [
        "#@markdown + Bring the text: Harry Potter\n",
        "!git clone https://github.com/ErikaJacobs/Harry-Potter-Text-Mining.git"
      ],
      "metadata": {
        "cellView": "form",
        "id": "jzAN3jZORiE_"
      },
      "execution_count": null,
      "outputs": []
    },
    {
      "cell_type": "code",
      "source": [
        "#@markdown + Text pre-processing: data processing using {pandas} (One chapter in one cell)\n",
        "import pandas as pd #Importing Pandas package\n",
        "%cd /content/Harry-Potter-Text-Mining/Book Text\n",
        "\n",
        "import glob\n",
        "fns = glob.glob('*.txt')\n",
        "df = pd.DataFrame()\n",
        "for fn in fns:\n",
        "  dftmp = pd.read_csv(fn, sep=\"@\")\n",
        "  df = pd.concat([df, dftmp])\n",
        "\n",
        "%cd /content\n",
        "\n",
        "df"
      ],
      "metadata": {
        "cellView": "form",
        "id": "Wd11Hx9_R0EP"
      },
      "execution_count": null,
      "outputs": []
    },
    {
      "cell_type": "code",
      "source": [
        "#@markdown + Remove stop words\n",
        "import nltk #Import NLTK library\n",
        "nltk.download('stopwords')\n",
        "nltk.download('punkt') #installed punkt to fix error\n",
        "from nltk import word_tokenize\n",
        "from nltk.corpus import stopwords #Import stopwords to Python\n",
        "\n",
        "stopwords = set(stopwords.words('english')) #English stopwords assigned to \"stopwords\" object\n",
        "\n",
        "import string #Punctuation\n",
        "\n",
        "# Function for removing punctuation\n",
        "def remove_punctuations(text):\n",
        "    for punctuation in string.punctuation:\n",
        "        text = text.replace(punctuation, '')\n",
        "    return text\n",
        "\n",
        "stopwords = [''.join(item for item in x if item not in string.punctuation) for x in stopwords] #Remove punctuation from stopwords\n",
        "\n",
        "df['WordCountText']=df['Text'].str.lower().apply(remove_punctuations).apply(word_tokenize) # Word Count Text\n",
        "# Word Count\n",
        "df['WordCloudText']=df['WordCountText'].apply(lambda x: [word for word in x if word not in stopwords]) # Word Cloud Text\n",
        "df['WordCount'] = df['WordCountText'].str.len() #Word Count Per Chapter"
      ],
      "metadata": {
        "cellView": "form",
        "id": "gOMavAe8SOyI"
      },
      "execution_count": null,
      "outputs": []
    },
    {
      "cell_type": "code",
      "source": [
        "#@markdown + Book chapter to Sentences\n",
        "# Creating a table breaking down the text by each sentence, rather than each chapter.\n",
        "from nltk import sent_tokenize\n",
        "from nltk import word_tokenize\n",
        "from nltk.stem import PorterStemmer\n",
        "\n",
        "# Make smaller table - reset index to prepare for further work\n",
        "dfsentiment = df[['Book','Chapter','Text']].reset_index() \\\n",
        "    .drop([\"index\"], axis=1)\n",
        "dfsentiment = dfsentiment.join(dfsentiment.Text.apply(sent_tokenize).rename('Sentences')) # Breaking apart text into sentences\n",
        "\n",
        "#Put every tokenized sentence into its own row\n",
        "dfsentiment2 = dfsentiment.Sentences.apply(pd.Series) \\\n",
        "    .merge(dfsentiment, left_index = True, right_index = True) \\\n",
        "    .drop([\"Text\"], axis = 1) \\\n",
        "    .drop([\"Sentences\"], axis = 1) \\\n",
        "    .melt(id_vars = ['Book', 'Chapter'], value_name = \"Sentence\") \\\n",
        "    .drop(\"variable\", axis = 1) \\\n",
        "    .dropna()\n",
        "\n",
        "# Sort new table by Book and Chapter - reset index to reflect new order\n",
        "dfsentiment2=dfsentiment2.sort_values(by=['Book', 'Chapter']) \\\n",
        "    .reset_index() \\\n",
        "    .drop(['index'], axis = 1)\n",
        "\n",
        "# Clean punctuation, lower case\n",
        "dfsentiment2['Sentence']=dfsentiment2.Sentence.apply(remove_punctuations).apply(lambda x: x.lower()) \\\n",
        "\n",
        "# Check first five values\n",
        "dfsentiment2"
      ],
      "metadata": {
        "cellView": "form",
        "id": "zcC4zJ9JSkso"
      },
      "execution_count": null,
      "outputs": []
    },
    {
      "cell_type": "markdown",
      "source": [
        "## Proceed to a Sentimental Analysis"
      ],
      "metadata": {
        "id": "T-ATz9QaUDfc"
      }
    },
    {
      "cell_type": "code",
      "source": [
        "#@markdown Install and import {VADER} library\n",
        "from nltk.sentiment.vader import SentimentIntensityAnalyzer\n",
        "import nltk\n",
        "nltk.download('vader_lexicon')\n",
        "sid=nltk.sentiment.vader.SentimentIntensityAnalyzer()"
      ],
      "metadata": {
        "cellView": "form",
        "id": "hF38sFIGUHdk"
      },
      "execution_count": null,
      "outputs": []
    },
    {
      "cell_type": "markdown",
      "source": [
        "###Harry Potter example texts (stemmed texts)\n",
        "\n",
        "\n",
        "|출처 | 예시문장 | 감정 |\n",
        "|--|--|--|\n",
        "|[0,1,1]|'the boy who lived mr and mrs dursley of number four privet drive were **proud** to say that they were perfectly normal **thank** you very much'|😄 Positive|[0,1,1]|\n",
        "|[1,1,1]|'they were the last people youd expect to be involved in anything **strange** or **mysterious** because they just didnt hold with such **nonsense**'|😡 Negative |\n",
        "|[2,1,1]|'mr dursley was the director of a firm called grunnings which made drills'|😐 Neutral|\n",
        "\n",
        "\n",
        "+ *Note*. 출처 == [sentence number, Book, Chapter]"
      ],
      "metadata": {
        "id": "Do0r7a0tFiLz"
      }
    },
    {
      "cell_type": "code",
      "source": [
        "#@markdown + Assign sentiment scores to sentences; Compound, positive, negative, neutral\n",
        "# Get intensity scores of each sentence\n",
        "dfsentiment2['Score']=dfsentiment2.Sentence.apply(lambda x: sid.polarity_scores(x))\n",
        "\n",
        "# Place scores in own columns\n",
        "dfsentiment2['CompScore']=dfsentiment2.Score.apply(lambda x: x.get(\"compound\"))\n",
        "dfsentiment2['PosScore']=dfsentiment2.Score.apply(lambda x: x.get(\"pos\"))\n",
        "dfsentiment2['NegScore']=dfsentiment2.Score.apply(lambda x: x.get(\"neg\"))\n",
        "dfsentiment2['NeuScore']=dfsentiment2.Score.apply(lambda x: x.get(\"neu\"))\n",
        "\n",
        "# With scores extracted, the original score field can be removed\n",
        "dfsentiment2 = dfsentiment2.drop([\"Score\"], axis=1)\n",
        "\n",
        "# Adding Sentiment Flags\n",
        "dfsentiment2['PosFlag'] = dfsentiment2.CompScore.apply(lambda x: 1 if x >= 0.05 else 0)\n",
        "dfsentiment2['NegFlag'] = dfsentiment2.CompScore.apply(lambda x: 1 if x <= -0.05 else 0)\n",
        "dfsentiment2['NeuFlag'] = dfsentiment2.CompScore.apply(lambda x: 1 if x < 0.05 and x > -0.05 else 0)"
      ],
      "metadata": {
        "cellView": "form",
        "id": "9wIjPpC3Uj6d"
      },
      "execution_count": null,
      "outputs": []
    },
    {
      "cell_type": "markdown",
      "source": [
        "In sentiment analysis, the term **\"compound\"** typically refers to a composite score that is used to represent the overall sentiment of a sentence, combining the individual positive, negative, and neutral scores into a single measure. This score is designed to indicate the overall emotional tone of the text, whether it's positive, negative, or neutral."
      ],
      "metadata": {
        "id": "x6LVdF_Hjrgj"
      }
    },
    {
      "cell_type": "code",
      "source": [
        "dfsentiment2.head(20)"
      ],
      "metadata": {
        "id": "QHL5QRuwU_f4"
      },
      "execution_count": null,
      "outputs": []
    },
    {
      "cell_type": "code",
      "source": [
        "#@markdown [1] Sentimental Analysis result (barplot): Neg, Neu, Pos\n",
        "\n",
        "print('* Negative Flag: ', dfsentiment2['NegFlag'].sum())\n",
        "print('* Neutral Flag: ', dfsentiment2['NeuFlag'].sum())\n",
        "print('* Positive Flag: ', dfsentiment2['PosFlag'].sum())\n",
        "print(\"=\"*50)\n",
        "print('Total: ',dfsentiment2['PosFlag'].sum()+dfsentiment2['NeuFlag'].sum()+dfsentiment2['NegFlag'].sum())\n",
        "\n",
        "\n",
        "import numpy as np\n",
        "import matplotlib.pyplot as plt\n",
        "\n",
        "Negative = int(dfsentiment2['NegFlag'].sum())\n",
        "Neutral = int(dfsentiment2['NeuFlag'].sum())\n",
        "Positive = int(dfsentiment2['PosFlag'].sum())\n",
        "\n",
        "# Your three integer frequencies\n",
        "freqs = [Negative, Neutral, Positive]\n",
        "# freqs = [18385, 33544, 19055]\n",
        "\n",
        "# Create labels for the bars\n",
        "labels = ['Negative', 'Neutral', 'Positive']\n",
        "\n",
        "# Create x coordinates for the bars\n",
        "x = np.arange(len(labels))\n",
        "\n",
        "# Generate the bar plot\n",
        "plt.bar(x, freqs)\n",
        "\n",
        "\n",
        "# Specify the colors for each category\n",
        "colors = ['lightblue', 'gray', 'orange']\n",
        "\n",
        "# Generate the bar plot with custom colors\n",
        "\n",
        "bars = plt.bar(x, freqs, color=colors)\n",
        "# Add labels to the x-axis\n",
        "plt.xticks(x, labels)\n",
        "\n",
        "# Set axis labels\n",
        "plt.xlabel('Categories')\n",
        "plt.ylabel('Frequency')\n",
        "\n",
        "# Set a title for the plot\n",
        "plt.title('Bar plot of Sentiment categories')\n",
        "plt.ylim(0, 40000)\n",
        "# Add the frequency text within each bar\n",
        "for bar, freq in zip(bars, freqs):\n",
        "    plt.text(bar.get_x() + bar.get_width() / 2, bar.get_height() - 2, str(freq),\n",
        "             ha='center', va='bottom', fontsize=12, color='gray')\n",
        "\n",
        "\n",
        "# Display the plot\n",
        "plt.show()\n"
      ],
      "metadata": {
        "cellView": "form",
        "id": "TII9dv7EkLwR"
      },
      "execution_count": null,
      "outputs": []
    },
    {
      "cell_type": "code",
      "source": [
        "#@markdown [2] Sentimental Analysis result (Pie chart): ratio to check\n",
        "import numpy as np\n",
        "import matplotlib.pyplot as plt\n",
        "\n",
        "Negative = int(dfsentiment2['NegFlag'].sum())\n",
        "Neutral = int(dfsentiment2['NeuFlag'].sum())\n",
        "Positive = int(dfsentiment2['PosFlag'].sum())\n",
        "\n",
        "# Your three integer frequencies\n",
        "freqs = [Negative, Neutral, Positive]\n",
        "\n",
        "# Create labels for the segments\n",
        "labels = ['Negative', 'Neutral', 'Positive']\n",
        "\n",
        "# Specify the colors for each segment\n",
        "colors = ['lightblue', 'gray', 'orange']\n",
        "\n",
        "# Generate the pie chart with custom colors\n",
        "plt.pie(freqs, labels=labels, colors=colors, autopct='%.1f%%', startangle=90)\n",
        "\n",
        "# Set a title for the plot\n",
        "plt.title('Pie chart of Sentiment categories')\n",
        "\n",
        "# Display the plot\n",
        "plt.show()\n"
      ],
      "metadata": {
        "cellView": "form",
        "id": "N7iyPZVEnAFJ"
      },
      "execution_count": null,
      "outputs": []
    },
    {
      "cell_type": "markdown",
      "source": [
        "### Time Series (시계열) Analysis and visualization"
      ],
      "metadata": {
        "id": "nz5KP9vxV5m0"
      }
    },
    {
      "cell_type": "code",
      "source": [
        "#@markdown Time series (The entire chapters: 1~37)\n",
        "# Assuming 'BookTitle' is correctly mapped from 'Book'\n",
        "dfs_grouped = dfsentiment2.groupby(['Chapter', 'Book']).agg({\n",
        "    'CompScore': 'mean',\n",
        "    'PosScore': 'mean',\n",
        "    'NegScore': 'mean',\n",
        "    'NeuScore': 'mean'\n",
        "})\n",
        "\n",
        "# Optionally, check the output to ensure it's as expected\n",
        "print(dfs_grouped.head())\n",
        "\n",
        "# If you want to plot the results\n",
        "import matplotlib.pyplot as plt\n",
        "fig, ax = plt.subplots(figsize=(10, 6))\n",
        "dfs_grouped['CompScore'].plot(ax=ax)\n",
        "plt.ylabel('Average Compound Sentiment Score')\n",
        "plt.title('Average Compound Sentiment Scores by Chapter and Book')\n",
        "plt.show()\n"
      ],
      "metadata": {
        "cellView": "form",
        "id": "dmltFvfWov72"
      },
      "execution_count": null,
      "outputs": []
    },
    {
      "cell_type": "code",
      "source": [
        "#@markdown Define a custom color list for each book\n",
        "colors = ['#e6194b', '#3cb44b', '#ffe119', '#4363d8', '#f58231', '#911eb4', '#46f0f0', '#f032e6', '#bcf60c', '#fabebe', '#008080', '#e6beff', '#9a6324', '#fffac8', '#800000', '#aaffc3', '#808000', '#ffd8b1', '#000075', '#808080', '#ffffff', '#000000']\n",
        "\n",
        "fig, ax = plt.subplots(figsize=(10, 6))\n",
        "\n",
        "chapter_numbers = sorted(dfsentiment2['Chapter'].unique())\n",
        "for i, chapter in enumerate(chapter_numbers):\n",
        "    if chapter in dfs_grouped['CompScore']:\n",
        "        ax.plot(dfs_grouped['CompScore'][chapter], label=f'Chapter {chapter}', color=colors[i % len(colors)])\n",
        "\n",
        "plt.ylabel('Average Compound Sentiment Score')\n",
        "plt.title('Average Compound Sentiment Scores by Chapter and Book')\n",
        "plt.legend()\n",
        "plt.show()\n"
      ],
      "metadata": {
        "cellView": "form",
        "id": "1pOv0aqis-KQ"
      },
      "execution_count": null,
      "outputs": []
    },
    {
      "cell_type": "markdown",
      "source": [
        "**ChatGPT says:** In Harry Potter and the Deathly Hallows, the main tragic event between chapters 25 and 28 is the aftermath of Dobby's death. Dobby, the house-elf, dies a hero while saving Harry and his friends from the Death Eaters at Malfoy Manor.\n",
        "\n",
        "\n",
        "+ The main tragic event that occurs between chapters 25 and 28 in Harry Potter and the Deathly Hallows (Book 7) is the death of Dobby, the house-elf. This event takes place in Chapter 23, \"Malfoy Manor\", and is not directly within the range you mentioned (chapters 25-28). However, its consequences and emotional impact on the characters continue to resonate in the following chapters.\n",
        "\n",
        "+ Dobby dies while helping Harry, Hermione, Ron, Luna, Dean, and Griphook escape from Malfoy Manor, where they were captured and held prisoner by Bellatrix Lestrange and other Death Eaters. In an attempt to rescue them, Dobby Apparates into the Manor, and in the ensuing chaos, he is fatally struck by a knife thrown by Bellatrix Lestrange as they Disapparate away.\n",
        "\n",
        "+ Dobby's death is a significant and heartbreaking moment in the story, as he dies a hero, saving Harry and his friends from the Death Eaters. It underscores the themes of loyalty, sacrifice, and the importance of valuing all beings, regardless of their background or status."
      ],
      "metadata": {
        "id": "y7Kw52z_h7DX"
      }
    },
    {
      "cell_type": "markdown",
      "source": [
        "**ChatGPT says:**\n",
        "\n",
        "**Ending story:** The ending of Harry Potter and the Deathly Hallows (Book 7) sees the final defeat of Lord Voldemort by Harry Potter during the Battle of Hogwarts. The ending is generally considered happy, as it brings the closure of the long-standing conflict between Harry and Voldemort, and most of the central characters, including Harry, Ron, and Hermione, survive and go on to live fulfilling lives. The book concludes with an epilogue set 19 years later, where Harry, Ron, Hermione, and their families are shown sending their own children off to Hogwarts School of Witchcraft and Wizardry, signifying a hopeful and peaceful future."
      ],
      "metadata": {
        "id": "21XMBehblCJw"
      }
    }
  ]
}