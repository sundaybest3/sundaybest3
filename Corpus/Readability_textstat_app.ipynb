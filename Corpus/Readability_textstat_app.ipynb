{
  "nbformat": 4,
  "nbformat_minor": 0,
  "metadata": {
    "colab": {
      "private_outputs": true,
      "provenance": [],
      "include_colab_link": true
    },
    "kernelspec": {
      "name": "python3",
      "display_name": "Python 3"
    },
    "language_info": {
      "name": "python"
    }
  },
  "cells": [
    {
      "cell_type": "markdown",
      "metadata": {
        "id": "view-in-github",
        "colab_type": "text"
      },
      "source": [
        "<a href=\"https://colab.research.google.com/github/sundaybest3/sundaybest3/blob/main/Corpus/Readability_textstat_app.ipynb\" target=\"_parent\"><img src=\"https://colab.research.google.com/assets/colab-badge.svg\" alt=\"Open In Colab\"/></a>"
      ]
    },
    {
      "cell_type": "markdown",
      "source": [
        "# 🔎 Readability measures application\n",
        "\n",
        "Using {textstat} package"
      ],
      "metadata": {
        "id": "0RQfl9B2_OYB"
      }
    },
    {
      "cell_type": "code",
      "execution_count": null,
      "metadata": {
        "id": "8-iSIq1opysf"
      },
      "outputs": [],
      "source": [
        "!pip install textstat"
      ]
    },
    {
      "cell_type": "markdown",
      "source": [
        "[sample text](https://raw.githubusercontent.com/MK316/Spring2024/main/DLTESOL/project/story01.txt)"
      ],
      "metadata": {
        "id": "1aByEAZo_HDi"
      }
    },
    {
      "cell_type": "code",
      "source": [
        "# Your text sample\n",
        "text = \"\"\"\n",
        "The quick brown fox jumps over the lazy dog. Despite the simplicity of the sentence, it contains almost all of the letters of the English alphabet. It is often used to display fonts and to test typewriters. Moreover, this sentence is useful in demonstrating various readability scores.\n",
        "\"\"\""
      ],
      "metadata": {
        "id": "EhSCgxJ3_D4S"
      },
      "execution_count": null,
      "outputs": []
    },
    {
      "cell_type": "code",
      "source": [
        "import textstat\n",
        "\n",
        "# Basic Text Statistics\n",
        "text_length = len(text)\n",
        "word_count = textstat.lexicon_count(text, removepunct=True)\n",
        "sentence_count = textstat.sentence_count(text)\n",
        "complex_words = textstat.difficult_words(text)\n",
        "syllable_count = textstat.syllable_count(text)\n",
        "\n",
        "# Readability Measures\n",
        "flesch_reading_ease = textstat.flesch_reading_ease(text)\n",
        "flesch_kincaid_grade = textstat.flesch_kincaid_grade(text)\n",
        "gunning_fog = textstat.gunning_fog(text)\n",
        "smog_index = textstat.smog_index(text)\n",
        "ari = textstat.automated_readability_index(text)\n",
        "coleman_liau_index = textstat.coleman_liau_index(text)\n",
        "linsear_write = textstat.linsear_write_formula(text)\n",
        "dale_chall = textstat.dale_chall_readability_score(text)\n",
        "standard = textstat.text_standard(text)\n",
        "\n",
        "# Print results\n",
        "print(\"Basic Text Statistics:\")\n",
        "print(f\"Text Length: {text_length}\")\n",
        "print(f\"Word Count: {word_count}\")\n",
        "print(f\"Sentence Count: {sentence_count}\")\n",
        "print(f\"Complex Words: {complex_words}\")\n",
        "print(f\"Syllable Count: {syllable_count}\")\n",
        "\n",
        "print(\"\\nReadability Measures:\")\n",
        "print(f\"Flesch Reading Ease: {flesch_reading_ease}\")\n",
        "print(f\"Flesch-Kincaid Grade Level: {flesch_kincaid_grade}\")\n",
        "print(f\"Gunning Fog Index: {gunning_fog}\")\n",
        "print(f\"SMOG Index: {smog_index}\")\n",
        "print(f\"Automated Readability Index (ARI): {ari}\")\n",
        "print(f\"Coleman-Liau Index: {coleman_liau_index}\")\n",
        "print(f\"Linsear Write Formula: {linsear_write}\")\n",
        "print(f\"Dale-Chall Readability Score: {dale_chall}\")\n",
        "print(f\"*** Readability Consensus based on all of the above test: {standard}\")\n"
      ],
      "metadata": {
        "id": "yhiqlRMDp1XX"
      },
      "execution_count": null,
      "outputs": []
    },
    {
      "cell_type": "markdown",
      "source": [
        "# Gradio implementation"
      ],
      "metadata": {
        "id": "BLZr7Stq-ZUc"
      }
    },
    {
      "cell_type": "code",
      "source": [
        "!pip install gradio textstat"
      ],
      "metadata": {
        "id": "X7PSPFeH_dSL"
      },
      "execution_count": null,
      "outputs": []
    },
    {
      "cell_type": "code",
      "source": [
        "# Install Gradio and Textstat\n",
        "import gradio as gr\n",
        "import textstat\n",
        "\n",
        "def analyze_text(text):\n",
        "    # Basic Text Statistics\n",
        "    text_length = len(text)\n",
        "    word_count = textstat.lexicon_count(text, removepunct=True)\n",
        "    sentence_count = textstat.sentence_count(text)\n",
        "    complex_words = textstat.difficult_words(text)\n",
        "    syllable_count = textstat.syllable_count(text)\n",
        "\n",
        "    # Readability Measures\n",
        "    flesch_reading_ease = textstat.flesch_reading_ease(text)\n",
        "    flesch_kincaid_grade = textstat.flesch_kincaid_grade(text)\n",
        "    gunning_fog = textstat.gunning_fog(text)\n",
        "    smog_index = textstat.smog_index(text)\n",
        "    ari = textstat.automated_readability_index(text)\n",
        "    coleman_liau_index = textstat.coleman_liau_index(text)\n",
        "    linsear_write = textstat.linsear_write_formula(text)\n",
        "    dale_chall = textstat.dale_chall_readability_score(text)\n",
        "    standard = textstat.text_standard(text)\n",
        "\n",
        "    # Prepare the results to display\n",
        "    results = f\"\"\"\n",
        "    ** Basic Text Statistics:'\\n'\n",
        "    Text Length: {text_length}\n",
        "    Word Count: {word_count}\n",
        "    Sentence Count: {sentence_count}\n",
        "    Complex Words: {complex_words}\n",
        "    Syllable Count: {syllable_count}\n",
        "\n",
        "    ** Readability Measures:'\\n'\n",
        "    Flesch Reading Ease: {flesch_reading_ease}\n",
        "    Flesch-Kincaid Grade Level: {flesch_kincaid_grade}\n",
        "    Gunning Fog Index: {gunning_fog}\n",
        "    SMOG Index: {smog_index}\n",
        "    Automated Readability Index (ARI): {ari}\n",
        "    Coleman-Liau Index: {coleman_liau_index}\n",
        "    Linsear Write Formula: {linsear_write}\n",
        "    Dale-Chall Readability Score: {dale_chall}'\\n'\n",
        "    ** Readability Consensus based on all of the above tests: {standard}\n",
        "    \"\"\"\n",
        "\n",
        "    return results\n",
        "\n",
        "# Create a Gradio interface\n",
        "iface = gr.Interface(fn=analyze_text,\n",
        "                     inputs=\"text_area\",\n",
        "                     outputs=\"text\",\n",
        "                     title=\"Readability Analysis Tool\",\n",
        "                     description=\"Enter text to analyze readability statistics and scores.\")\n",
        "\n",
        "# Launch the interface\n",
        "iface.launch()\n"
      ],
      "metadata": {
        "id": "ml6MHyT7-Y8l"
      },
      "execution_count": null,
      "outputs": []
    },
    {
      "cell_type": "markdown",
      "source": [
        "# Outputs in separate boxes"
      ],
      "metadata": {
        "id": "Ir3qUDzZ-JfW"
      }
    },
    {
      "cell_type": "code",
      "source": [
        "import gradio as gr\n",
        "import textstat\n",
        "\n",
        "def analyze_text(text):\n",
        "    # Return tuple containing results for each textbox\n",
        "    return (\n",
        "        len(text),  # Text Length\n",
        "        textstat.lexicon_count(text, removepunct=True),  # Word Count\n",
        "        textstat.sentence_count(text),  # Sentence Count\n",
        "        textstat.difficult_words(text),  # Complex Words\n",
        "        textstat.syllable_count(text),  # Syllable Count\n",
        "        textstat.flesch_reading_ease(text),  # Flesch Reading Ease\n",
        "        textstat.flesch_kincaid_grade(text),  # Flesch-Kincaid Grade Level\n",
        "        textstat.gunning_fog(text),  # Gunning Fog Index\n",
        "        textstat.smog_index(text),  # SMOG Index\n",
        "        textstat.automated_readability_index(text),  # ARI\n",
        "        textstat.coleman_liau_index(text),  # Coleman-Liau Index\n",
        "        textstat.linsear_write_formula(text),  # Linsear Write Formula\n",
        "        textstat.dale_chall_readability_score(text),  # Dale-Chall Score\n",
        "        textstat.text_standard(text)  # Readability Consensus\n",
        "    )\n",
        "\n",
        "# Define interface outputs as a list of textboxes with labels\n",
        "outputs = [\n",
        "    gr.Textbox(label=\"Text Length\"),\n",
        "    gr.Textbox(label=\"Word Count\"),\n",
        "    gr.Textbox(label=\"Sentence Count\"),\n",
        "    gr.Textbox(label=\"Complex Words\"),\n",
        "    gr.Textbox(label=\"Syllable Count\"),\n",
        "    gr.Textbox(label=\"Flesch Reading Ease\"),\n",
        "    gr.Textbox(label=\"Flesch-Kincaid Grade Level\"),\n",
        "    gr.Textbox(label=\"Gunning Fog Index\"),\n",
        "    gr.Textbox(label=\"SMOG Index\"),\n",
        "    gr.Textbox(label=\"Automated Readability Index (ARI)\"),\n",
        "    gr.Textbox(label=\"Coleman-Liau Index\"),\n",
        "    gr.Textbox(label=\"Linsear Write Formula\"),\n",
        "    gr.Textbox(label=\"Dale-Chall Readability Score\"),\n",
        "    gr.Textbox(label=\"Readability Consensus\")\n",
        "]\n",
        "\n",
        "iface = gr.Interface(fn=analyze_text,\n",
        "                     inputs=\"text_area\",\n",
        "                     outputs=outputs,\n",
        "                     title=\"Readability Analysis Tool\",\n",
        "                     description=\"Enter text to analyze readability statistics and scores.\")\n",
        "\n",
        "iface.launch()\n"
      ],
      "metadata": {
        "id": "37ri0m1Np7eI"
      },
      "execution_count": null,
      "outputs": []
    },
    {
      "cell_type": "markdown",
      "source": [
        "## Add description for each measure in the label"
      ],
      "metadata": {
        "id": "TsBBarI6-ExA"
      }
    },
    {
      "cell_type": "code",
      "source": [
        "import gradio as gr\n",
        "import textstat\n",
        "\n",
        "def analyze_text(text):\n",
        "    # Return tuple containing results for each textbox\n",
        "    return (\n",
        "        len(text),  # Text Length\n",
        "        textstat.lexicon_count(text, removepunct=True),  # Word Count\n",
        "        textstat.sentence_count(text),  # Sentence Count\n",
        "        textstat.difficult_words(text),  # Complex Words\n",
        "        textstat.syllable_count(text),  # Syllable Count\n",
        "        textstat.flesch_reading_ease(text),  # Flesch Reading Ease\n",
        "        textstat.flesch_kincaid_grade(text),  # Flesch-Kincaid Grade Level\n",
        "        textstat.gunning_fog(text),  # Gunning Fog Index\n",
        "        textstat.smog_index(text),  # SMOG Index\n",
        "        textstat.automated_readability_index(text),  # ARI\n",
        "        textstat.coleman_liau_index(text),  # Coleman-Liau Index\n",
        "        textstat.linsear_write_formula(text),  # Linsear Write Formula\n",
        "        textstat.dale_chall_readability_score(text),  # Dale-Chall Score\n",
        "        textstat.text_standard(text)  # Readability Consensus\n",
        "    )\n",
        "\n",
        "# Define interface outputs with index ranges where applicable\n",
        "outputs = [\n",
        "    gr.Textbox(label=\"Text Length\"),\n",
        "    gr.Textbox(label=\"Word Count\"),\n",
        "    gr.Textbox(label=\"Sentence Count\"),\n",
        "    gr.Textbox(label=\"Complex Words\"),\n",
        "    gr.Textbox(label=\"Syllable Count\"),\n",
        "    gr.Textbox(label=\"Flesch Reading Ease (0-100)\"),\n",
        "    gr.Textbox(label=\"Flesch-Kincaid Grade Level (US grade level)\"),\n",
        "    gr.Textbox(label=\"Gunning Fog Index (US grade level)\"),\n",
        "    gr.Textbox(label=\"SMOG Index (US grade level)\"),\n",
        "    gr.Textbox(label=\"Automated Readability Index (ARI) (US grade level)\"),\n",
        "    gr.Textbox(label=\"Coleman-Liau Index (US grade level)\"),\n",
        "    gr.Textbox(label=\"Linsear Write Formula (US grade level)\"),\n",
        "    gr.Textbox(label=\"Dale-Chall Readability Score (US grade level)\"),\n",
        "    gr.Textbox(label=\"Readability Consensus (Approx. US grade level)\")\n",
        "]\n",
        "\n",
        "iface = gr.Interface(fn=analyze_text,\n",
        "                     inputs=\"text_area\",\n",
        "                     outputs=outputs,\n",
        "                     title=\"Readability Analysis Tool\",\n",
        "                     description=\"Enter text to analyze readability statistics and scores. Index ranges indicate the approximate grade or readability level.\")\n",
        "\n",
        "iface.launch()\n"
      ],
      "metadata": {
        "id": "UibOSuWu8g4e"
      },
      "execution_count": null,
      "outputs": []
    }
  ]
}